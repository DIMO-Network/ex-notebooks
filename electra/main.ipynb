{
 "cells": [
  {
   "cell_type": "code",
   "execution_count": 18,
   "id": "cdd010b2",
   "metadata": {},
   "outputs": [],
   "source": [
    "%load_ext dotenv\n",
    "%dotenv"
   ]
  },
  {
   "cell_type": "code",
   "execution_count": 19,
   "id": "81c9bbca",
   "metadata": {},
   "outputs": [],
   "source": [
    "import os\n",
    "\n",
    "QUERY = \"\"\"query AprilSigs($tokenId: Int!, $interval: String!) {\n",
    "  signals(\n",
    "    tokenId: $tokenId\n",
    "    from: \"2025-04-01T00:00:00Z\"\n",
    "    to: \"2025-04-07T00:00:00Z\"\n",
    "    interval: $interval\n",
    "  ) {\n",
    "    DateTime: timestamp\n",
    "    Speed: speed(agg: AVG)\n",
    "    Odometer: powertrainTransmissionTravelledDistance(agg: AVG)\n",
    "    SoC: powertrainTractionBatteryStateOfChargeCurrent(agg: AVG)\n",
    "    V: powertrainTractionBatteryChargingChargeVoltageUnknownType(agg: AVG)\n",
    "    I: powertrainTractionBatteryChargingChargeCurrentAC(agg: AVG)\n",
    "    Q: powertrainTractionBatteryGrossCapacity(agg: AVG)\n",
    "    P: powertrainTractionBatteryCurrentPower(agg: AVG)\n",
    "    IsCharging: powertrainTractionBatteryChargingIsCharging(agg: MAX)\n",
    "    AmbT: exteriorAirTemperature(agg: AVG)\n",
    "  }\n",
    "}\"\"\"\n",
    "\n",
    "TOKEN_ID = 118128\n",
    "INTERVAL = \"1s\"\n",
    "QUERY_URL = os.environ.get(\"QUERY_URL\", \"https://identity-api.dimo.zone/query\")\n",
    "AUTH_TOKEN = os.environ.get(\"AUTH_TOKEN\")"
   ]
  },
  {
   "cell_type": "code",
   "execution_count": 20,
   "id": "6c5a7e7b",
   "metadata": {},
   "outputs": [],
   "source": [
    "import requests\n",
    "\n",
    "resp = requests.post(\n",
    "    QUERY_URL,\n",
    "    json={\"query\": QUERY, \"variables\": {\"tokenId\": TOKEN_ID, \"interval\": INTERVAL}},\n",
    "    headers={\n",
    "        \"Authorization\": \"Bearer \" + AUTH_TOKEN,\n",
    "    },\n",
    ")\n",
    "\n",
    "assert resp.status_code == 200, \"Request failed\""
   ]
  },
  {
   "cell_type": "code",
   "execution_count": 21,
   "id": "d43b7c95",
   "metadata": {},
   "outputs": [],
   "source": [
    "import pandas as pd\n",
    "\n",
    "df = pd.DataFrame.from_records(resp.json()[\"data\"][\"signals\"])\n",
    "\n",
    "df[\"DateTime\"] = pd.to_datetime(df[\"DateTime\"])"
   ]
  },
  {
   "cell_type": "code",
   "execution_count": 22,
   "id": "bb946587",
   "metadata": {},
   "outputs": [
    {
     "name": "stdout",
     "output_type": "stream",
     "text": [
      "Have 344 rows\n"
     ]
    }
   ],
   "source": [
    "volt_df = df[[\"DateTime\", \"V\"]]\n",
    "vold_df = volt_df.dropna()\n",
    "\n",
    "print(f\"Have {len(vold_df)} rows\")"
   ]
  },
  {
   "cell_type": "code",
   "execution_count": null,
   "id": "a571bb8b",
   "metadata": {},
   "outputs": [
    {
     "data": {
      "text/plain": [
       "<matplotlib.collections.PathCollection at 0x123b58f50>"
      ]
     },
     "execution_count": 23,
     "metadata": {},
     "output_type": "execute_result"
    },
    {
     "data": {
      "image/png": "[encoded data removed]",
      "text/plain": [
       "<Figure size 1200x600 with 1 Axes>"
      ]
     },
     "metadata": {},
     "output_type": "display_data"
    }
   ],
   "source": [
    "import matplotlib.pyplot as plt\n",
    "\n",
    "plt.title(f\"Voltage with interval {INTERVAL}\")\n",
    "plt.figure(figsize=(12, 6))\n",
    "plt.scatter(volt_df[\"DateTime\"], volt_df[\"V\"], s=10)"
   ]
  }
 ],
 "metadata": {
  "kernelspec": {
   "display_name": ".venv",
   "language": "python",
   "name": "python3"
  },
  "language_info": {
   "codemirror_mode": {
    "name": "ipython",
    "version": 3
   },
   "file_extension": ".py",
   "mimetype": "text/x-python",
   "name": "python",
   "nbconvert_exporter": "python",
   "pygments_lexer": "ipython3",
   "version": "3.13.3"
  }
 },
 "nbformat": 4,
 "nbformat_minor": 5
}
